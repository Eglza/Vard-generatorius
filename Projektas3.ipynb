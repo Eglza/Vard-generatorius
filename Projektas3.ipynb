{
  "nbformat": 4,
  "nbformat_minor": 0,
  "metadata": {
    "colab": {
      "provenance": [],
      "gpuType": "T4",
      "authorship_tag": "ABX9TyPGSuglNcZbSLQvSxDaEolg",
      "include_colab_link": true
    },
    "kernelspec": {
      "name": "python3",
      "display_name": "Python 3"
    },
    "language_info": {
      "name": "python"
    },
    "accelerator": "GPU"
  },
  "cells": [
    {
      "cell_type": "markdown",
      "metadata": {
        "id": "view-in-github",
        "colab_type": "text"
      },
      "source": [
        "<a href=\"https://colab.research.google.com/github/Eglza/Vard-generatorius/blob/main/Projektas3.ipynb\" target=\"_parent\"><img src=\"https://colab.research.google.com/assets/colab-badge.svg\" alt=\"Open In Colab\"/></a>"
      ]
    },
    {
      "cell_type": "markdown",
      "source": [
        "# **Lietuviškų vardų generatorius**\n"
      ],
      "metadata": {
        "id": "nxoCcqyr63la"
      }
    },
    {
      "cell_type": "code",
      "source": [
        "!pip install streamlit\n",
        "!pip install pyngrok"
      ],
      "metadata": {
        "colab": {
          "base_uri": "https://localhost:8080/"
        },
        "id": "vOGq0-5OFSHF",
        "outputId": "9c2cd45b-baba-4925-a055-65f640473eec"
      },
      "execution_count": null,
      "outputs": [
        {
          "output_type": "stream",
          "name": "stdout",
          "text": [
            "Collecting streamlit\n",
            "  Downloading streamlit-1.40.2-py2.py3-none-any.whl.metadata (8.4 kB)\n",
            "Requirement already satisfied: altair<6,>=4.0 in /usr/local/lib/python3.10/dist-packages (from streamlit) (4.2.2)\n",
            "Requirement already satisfied: blinker<2,>=1.0.0 in /usr/local/lib/python3.10/dist-packages (from streamlit) (1.9.0)\n",
            "Requirement already satisfied: cachetools<6,>=4.0 in /usr/local/lib/python3.10/dist-packages (from streamlit) (5.5.0)\n",
            "Requirement already satisfied: click<9,>=7.0 in /usr/local/lib/python3.10/dist-packages (from streamlit) (8.1.7)\n",
            "Requirement already satisfied: numpy<3,>=1.23 in /usr/local/lib/python3.10/dist-packages (from streamlit) (1.26.4)\n",
            "Requirement already satisfied: packaging<25,>=20 in /usr/local/lib/python3.10/dist-packages (from streamlit) (24.2)\n",
            "Requirement already satisfied: pandas<3,>=1.4.0 in /usr/local/lib/python3.10/dist-packages (from streamlit) (2.2.2)\n",
            "Requirement already satisfied: pillow<12,>=7.1.0 in /usr/local/lib/python3.10/dist-packages (from streamlit) (11.0.0)\n",
            "Requirement already satisfied: protobuf<6,>=3.20 in /usr/local/lib/python3.10/dist-packages (from streamlit) (4.25.5)\n",
            "Requirement already satisfied: pyarrow>=7.0 in /usr/local/lib/python3.10/dist-packages (from streamlit) (17.0.0)\n",
            "Requirement already satisfied: requests<3,>=2.27 in /usr/local/lib/python3.10/dist-packages (from streamlit) (2.32.3)\n",
            "Requirement already satisfied: rich<14,>=10.14.0 in /usr/local/lib/python3.10/dist-packages (from streamlit) (13.9.4)\n",
            "Requirement already satisfied: tenacity<10,>=8.1.0 in /usr/local/lib/python3.10/dist-packages (from streamlit) (9.0.0)\n",
            "Requirement already satisfied: toml<2,>=0.10.1 in /usr/local/lib/python3.10/dist-packages (from streamlit) (0.10.2)\n",
            "Requirement already satisfied: typing-extensions<5,>=4.3.0 in /usr/local/lib/python3.10/dist-packages (from streamlit) (4.12.2)\n",
            "Collecting watchdog<7,>=2.1.5 (from streamlit)\n",
            "  Downloading watchdog-6.0.0-py3-none-manylinux2014_x86_64.whl.metadata (44 kB)\n",
            "\u001b[2K     \u001b[90m━━━━━━━━━━━━━━━━━━━━━━━━━━━━━━━━━━━━━━━━\u001b[0m \u001b[32m44.3/44.3 kB\u001b[0m \u001b[31m3.1 MB/s\u001b[0m eta \u001b[36m0:00:00\u001b[0m\n",
            "\u001b[?25hRequirement already satisfied: gitpython!=3.1.19,<4,>=3.0.7 in /usr/local/lib/python3.10/dist-packages (from streamlit) (3.1.43)\n",
            "Collecting pydeck<1,>=0.8.0b4 (from streamlit)\n",
            "  Downloading pydeck-0.9.1-py2.py3-none-any.whl.metadata (4.1 kB)\n",
            "Requirement already satisfied: tornado<7,>=6.0.3 in /usr/local/lib/python3.10/dist-packages (from streamlit) (6.3.3)\n",
            "Requirement already satisfied: entrypoints in /usr/local/lib/python3.10/dist-packages (from altair<6,>=4.0->streamlit) (0.4)\n",
            "Requirement already satisfied: jinja2 in /usr/local/lib/python3.10/dist-packages (from altair<6,>=4.0->streamlit) (3.1.4)\n",
            "Requirement already satisfied: jsonschema>=3.0 in /usr/local/lib/python3.10/dist-packages (from altair<6,>=4.0->streamlit) (4.23.0)\n",
            "Requirement already satisfied: toolz in /usr/local/lib/python3.10/dist-packages (from altair<6,>=4.0->streamlit) (0.12.1)\n",
            "Requirement already satisfied: gitdb<5,>=4.0.1 in /usr/local/lib/python3.10/dist-packages (from gitpython!=3.1.19,<4,>=3.0.7->streamlit) (4.0.11)\n",
            "Requirement already satisfied: python-dateutil>=2.8.2 in /usr/local/lib/python3.10/dist-packages (from pandas<3,>=1.4.0->streamlit) (2.8.2)\n",
            "Requirement already satisfied: pytz>=2020.1 in /usr/local/lib/python3.10/dist-packages (from pandas<3,>=1.4.0->streamlit) (2024.2)\n",
            "Requirement already satisfied: tzdata>=2022.7 in /usr/local/lib/python3.10/dist-packages (from pandas<3,>=1.4.0->streamlit) (2024.2)\n",
            "Requirement already satisfied: charset-normalizer<4,>=2 in /usr/local/lib/python3.10/dist-packages (from requests<3,>=2.27->streamlit) (3.4.0)\n",
            "Requirement already satisfied: idna<4,>=2.5 in /usr/local/lib/python3.10/dist-packages (from requests<3,>=2.27->streamlit) (3.10)\n",
            "Requirement already satisfied: urllib3<3,>=1.21.1 in /usr/local/lib/python3.10/dist-packages (from requests<3,>=2.27->streamlit) (2.2.3)\n",
            "Requirement already satisfied: certifi>=2017.4.17 in /usr/local/lib/python3.10/dist-packages (from requests<3,>=2.27->streamlit) (2024.8.30)\n",
            "Requirement already satisfied: markdown-it-py>=2.2.0 in /usr/local/lib/python3.10/dist-packages (from rich<14,>=10.14.0->streamlit) (3.0.0)\n",
            "Requirement already satisfied: pygments<3.0.0,>=2.13.0 in /usr/local/lib/python3.10/dist-packages (from rich<14,>=10.14.0->streamlit) (2.18.0)\n",
            "Requirement already satisfied: smmap<6,>=3.0.1 in /usr/local/lib/python3.10/dist-packages (from gitdb<5,>=4.0.1->gitpython!=3.1.19,<4,>=3.0.7->streamlit) (5.0.1)\n",
            "Requirement already satisfied: MarkupSafe>=2.0 in /usr/local/lib/python3.10/dist-packages (from jinja2->altair<6,>=4.0->streamlit) (3.0.2)\n",
            "Requirement already satisfied: attrs>=22.2.0 in /usr/local/lib/python3.10/dist-packages (from jsonschema>=3.0->altair<6,>=4.0->streamlit) (24.2.0)\n",
            "Requirement already satisfied: jsonschema-specifications>=2023.03.6 in /usr/local/lib/python3.10/dist-packages (from jsonschema>=3.0->altair<6,>=4.0->streamlit) (2024.10.1)\n",
            "Requirement already satisfied: referencing>=0.28.4 in /usr/local/lib/python3.10/dist-packages (from jsonschema>=3.0->altair<6,>=4.0->streamlit) (0.35.1)\n",
            "Requirement already satisfied: rpds-py>=0.7.1 in /usr/local/lib/python3.10/dist-packages (from jsonschema>=3.0->altair<6,>=4.0->streamlit) (0.21.0)\n",
            "Requirement already satisfied: mdurl~=0.1 in /usr/local/lib/python3.10/dist-packages (from markdown-it-py>=2.2.0->rich<14,>=10.14.0->streamlit) (0.1.2)\n",
            "Requirement already satisfied: six>=1.5 in /usr/local/lib/python3.10/dist-packages (from python-dateutil>=2.8.2->pandas<3,>=1.4.0->streamlit) (1.16.0)\n",
            "Downloading streamlit-1.40.2-py2.py3-none-any.whl (8.6 MB)\n",
            "\u001b[2K   \u001b[90m━━━━━━━━━━━━━━━━━━━━━━━━━━━━━━━━━━━━━━━━\u001b[0m \u001b[32m8.6/8.6 MB\u001b[0m \u001b[31m30.8 MB/s\u001b[0m eta \u001b[36m0:00:00\u001b[0m\n",
            "\u001b[?25hDownloading pydeck-0.9.1-py2.py3-none-any.whl (6.9 MB)\n",
            "\u001b[2K   \u001b[90m━━━━━━━━━━━━━━━━━━━━━━━━━━━━━━━━━━━━━━━━\u001b[0m \u001b[32m6.9/6.9 MB\u001b[0m \u001b[31m21.8 MB/s\u001b[0m eta \u001b[36m0:00:00\u001b[0m\n",
            "\u001b[?25hDownloading watchdog-6.0.0-py3-none-manylinux2014_x86_64.whl (79 kB)\n",
            "\u001b[2K   \u001b[90m━━━━━━━━━━━━━━━━━━━━━━━━━━━━━━━━━━━━━━━━\u001b[0m \u001b[32m79.1/79.1 kB\u001b[0m \u001b[31m5.8 MB/s\u001b[0m eta \u001b[36m0:00:00\u001b[0m\n",
            "\u001b[?25hInstalling collected packages: watchdog, pydeck, streamlit\n",
            "Successfully installed pydeck-0.9.1 streamlit-1.40.2 watchdog-6.0.0\n",
            "Collecting pyngrok\n",
            "  Downloading pyngrok-7.2.1-py3-none-any.whl.metadata (8.3 kB)\n",
            "Requirement already satisfied: PyYAML>=5.1 in /usr/local/lib/python3.10/dist-packages (from pyngrok) (6.0.2)\n",
            "Downloading pyngrok-7.2.1-py3-none-any.whl (22 kB)\n",
            "Installing collected packages: pyngrok\n",
            "Successfully installed pyngrok-7.2.1\n"
          ]
        }
      ]
    },
    {
      "cell_type": "code",
      "source": [
        "from pyngrok import ngrok, conf\n",
        "\n",
        "# Configure ngrok with your authentication token\n",
        "ngrok.set_auth_token(\"2pA2nwpPDy9sd9LDIWbHgGVGePk_7r2jWaiKrYhnRDMpQd7r1\")\n",
        "\n",
        "# Configure ngrok to use the default free server region\n",
        "conf.get_default().region = \"us\"\n",
        "\n",
        "# Set up the Streamlit tunnel on port 8501 (the default for Streamlit)\n",
        "tunnel = ngrok.connect(8501)\n",
        "\n",
        "# Get the public URL of the tunnel\n",
        "public_url = tunnel.public_url\n",
        "print(f\"Streamlit app is live at: {public_url}\")\n"
      ],
      "metadata": {
        "colab": {
          "base_uri": "https://localhost:8080/"
        },
        "id": "tyxf3pBE_u0s",
        "outputId": "8c7dc7a0-ccc3-4686-f0d8-316260342e83"
      },
      "execution_count": null,
      "outputs": [
        {
          "output_type": "stream",
          "name": "stdout",
          "text": [
            "Streamlit app is live at: https://fef2-35-227-151-177.ngrok-free.app\n"
          ]
        }
      ]
    },
    {
      "cell_type": "code",
      "source": [],
      "metadata": {
        "id": "7G6FfmgKBzgD"
      },
      "execution_count": null,
      "outputs": []
    },
    {
      "cell_type": "code",
      "source": [
        "import requests\n",
        "from bs4 import BeautifulSoup\n",
        "\n",
        "# Create function to scrape and save names\n",
        "def download_names():\n",
        "    names_male = []\n",
        "    names_female = []\n",
        "\n",
        "    for key in ['a', 'b', 'c', 'c-2', 'd', 'e', 'f', 'g', 'h', 'i', 'j', 'k', 'l',\n",
        "                'm', 'n', 'o', 'p', 'r', 's', 's-2', 't', 'u', 'v', 'z', 'z-2']:\n",
        "        url = f'https://vardai.vlkk.lt/sarasas/{key}/'\n",
        "        response = requests.get(url)\n",
        "        soup = BeautifulSoup(response.text, 'html.parser')\n",
        "\n",
        "        # Scrape male names\n",
        "        links_male = soup.find_all('a', class_='names_list__links names_list__links--man')\n",
        "        names_male += [name.text for name in links_male]\n",
        "\n",
        "        # Scrape female names\n",
        "        links_female = soup.find_all('a', class_='names_list__links names_list__links--woman')\n",
        "        names_female += [name.text for name in links_female]\n",
        "\n",
        "    # Save male names to a text file\n",
        "    with open('vardai_male.txt', 'w', encoding='utf-8') as f:\n",
        "        for name in names_male:\n",
        "            f.write(f\"{name}\\n\")\n",
        "\n",
        "    # Save female names to a text file\n",
        "    with open('vardai_female.txt', 'w', encoding='utf-8') as f:\n",
        "        for name in names_female:\n",
        "            f.write(f\"{name}\\n\")\n",
        "\n",
        "    print(f\"Downloaded {len(names_male)} male names and {len(names_female)} female names.\")\n",
        "\n",
        "# Call the function to download names\n",
        "download_names()\n"
      ],
      "metadata": {
        "colab": {
          "base_uri": "https://localhost:8080/"
        },
        "id": "35LDrlyB_uiu",
        "outputId": "cbcbf4f5-1970-43c3-9f9b-ab64f6471770"
      },
      "execution_count": null,
      "outputs": [
        {
          "output_type": "stream",
          "name": "stdout",
          "text": [
            "Downloaded 3850 male names and 4235 female names.\n"
          ]
        }
      ]
    },
    {
      "cell_type": "code",
      "source": [
        "import torch\n",
        "from torch.utils.data import DataLoader\n",
        "from torch import nn, optim\n",
        "from torch.nn.utils.rnn import pad_sequence\n",
        "\n",
        "# Define the NameDataset class to load and process name datasets\n",
        "class NameDataset(torch.utils.data.Dataset):\n",
        "    def __init__(self, file_path):\n",
        "        with open(file_path, 'r', encoding='utf-8') as f:\n",
        "            self.names = f.read().splitlines()\n",
        "\n",
        "        # Create char-to-int and int-to-char mappings\n",
        "        self.char_to_int = {char: idx for idx, char in enumerate(set(\"\".join(self.names)))}\n",
        "        self.int_to_char = {idx: char for char, idx in self.char_to_int.items()}\n",
        "        self.vocab_size = len(self.char_to_int)\n",
        "\n",
        "    def __len__(self):\n",
        "        return len(self.names)\n",
        "\n",
        "    def __getitem__(self, idx):\n",
        "        name = self.names[idx]\n",
        "        int_sequence = [self.char_to_int[char] for char in name]\n",
        "        return torch.tensor(int_sequence)\n",
        "\n",
        "# Define the NameGenerator model (LSTM-based model for name generation)\n",
        "class NameGenerator(nn.Module):\n",
        "    def __init__(self, vocab_size, embedding_dim=128, hidden_dim=256):\n",
        "        super(NameGenerator, self).__init__()\n",
        "        self.embedding = nn.Embedding(vocab_size, embedding_dim)\n",
        "        self.lstm = nn.LSTM(embedding_dim, hidden_dim, batch_first=True)\n",
        "        self.fc = nn.Linear(hidden_dim, vocab_size)\n",
        "\n",
        "    def forward(self, x):\n",
        "        embedded = self.embedding(x)\n",
        "        lstm_out, _ = self.lstm(embedded)\n",
        "        output = self.fc(lstm_out)\n",
        "        return output\n",
        "\n",
        "# Define a function for padding sequences within a batch\n",
        "def pad_collate(batch):\n",
        "    padded_sequences = pad_sequence(batch, batch_first=True, padding_value=0)\n",
        "    targets = padded_sequences[:, 1:]\n",
        "    inputs = padded_sequences[:, :-1]\n",
        "    return inputs, targets\n",
        "\n",
        "# Define a function for training the model\n",
        "\n",
        "def train_model(dataset, model, num_epochs=0, batch_size=32):  # Change num_epochs to 100\n",
        "    dataloader = DataLoader(dataset, batch_size=batch_size, shuffle=True, collate_fn=pad_collate)\n",
        "    criterion = nn.CrossEntropyLoss()\n",
        "    optimizer = optim.Adam(model.parameters(), lr=0.001)\n",
        "\n",
        "    for epoch in range(num_epochs):\n",
        "        for inputs, targets in dataloader:\n",
        "            optimizer.zero_grad()\n",
        "            output = model(inputs)\n",
        "            loss = criterion(output.contiguous().view(-1, dataset.vocab_size), targets.contiguous().view(-1))\n",
        "            loss.backward()\n",
        "            torch.nn.utils.clip_grad_norm_(model.parameters(), max_norm=1.0)\n",
        "            optimizer.step()\n",
        "\n",
        "        print(f\"Epoch [{epoch+1}/{num_epochs}], Loss: {loss.item():.4f}\")\n",
        "\n",
        "\n",
        "# Train the male model\n",
        "dataset_male = NameDataset('vardai_male.txt')\n",
        "model_male = NameGenerator(dataset_male.vocab_size)\n",
        "train_model(dataset_male, model_male)\n",
        "torch.save(model_male.state_dict(), 'model_male.pth')\n",
        "\n",
        "# Train the female model\n",
        "dataset_female = NameDataset('vardai_female.txt')\n",
        "model_female = NameGenerator(dataset_female.vocab_size)\n",
        "train_model(dataset_female, model_female)\n",
        "torch.save(model_female.state_dict(), 'model_female.pth')\n"
      ],
      "metadata": {
        "id": "onYjGvgFK9g7"
      },
      "execution_count": null,
      "outputs": []
    },
    {
      "cell_type": "code",
      "source": [
        "!ls\n"
      ],
      "metadata": {
        "colab": {
          "base_uri": "https://localhost:8080/"
        },
        "id": "HG1Y4Yh8K9Wq",
        "outputId": "8cdfe515-59f5-4af8-c081-21e1b7dd5bc0"
      },
      "execution_count": null,
      "outputs": [
        {
          "output_type": "stream",
          "name": "stdout",
          "text": [
            "app.py\tmodel_female.pth  model_male.pth  sample_data  vardai_female.txt  vardai_male.txt\n"
          ]
        }
      ]
    },
    {
      "cell_type": "code",
      "source": [
        "import torch\n",
        "import torch.nn as nn\n",
        "import torch.optim as optim\n",
        "from torch.utils.data import Dataset, DataLoader\n",
        "import pandas as pd\n",
        "from torch.nn.utils.rnn import pad_sequence\n",
        "\n",
        "# 1. Define the NameDataset class\n",
        "import pandas as pd\n",
        "from torch.utils.data import Dataset\n",
        "\n",
        "class NameDataset(Dataset):\n",
        "    def __init__(self, txt_file):\n",
        "        # Read names from the TXT file, one name per line\n",
        "        with open(txt_file, 'r', encoding='utf-8') as f:\n",
        "            self.names = [line.strip() for line in f] #strip() removes leading/trailing whitespace\n",
        "\n",
        "        # Create a character set from the names and include a space (padding character)\n",
        "        self.chars = sorted(list(set(''.join(self.names)))) + [' ']\n",
        "        self.vocab_size = len(self.chars)\n",
        "\n",
        "        # Create dictionaries for character-to-index and index-to-character mapping\n",
        "        self.char_to_int = {c: i for i, c in enumerate(self.chars)}\n",
        "        self.int_to_char = {i: c for i, c in enumerate(self.chars)}\n",
        "\n",
        "    def __len__(self):\n",
        "        return len(self.names)\n",
        "\n",
        "    def __getitem__(self, idx):\n",
        "        name = self.names[idx] + ' '  # Adding padding character at the end\n",
        "        encoded_name = [self.char_to_int[char] for char in name]\n",
        "        return torch.tensor(encoded_name)\n"
      ],
      "metadata": {
        "id": "cE2Myd1CFPjC"
      },
      "execution_count": null,
      "outputs": []
    },
    {
      "cell_type": "code",
      "source": [
        "# Custom collate function for padding\n",
        "def pad_collate(batch):\n",
        "    padded_seqs = pad_sequence(batch, batch_first=True, padding_value=0)  # Pad sequences to the same length\n",
        "    input_seq = padded_seqs[:, :-1]  # All but the last character for input\n",
        "    target_seq = padded_seqs[:, 1:]  # All but the first character for target\n",
        "    return input_seq, target_seq\n"
      ],
      "metadata": {
        "id": "gFK-gx7OFS-U"
      },
      "execution_count": null,
      "outputs": []
    },
    {
      "cell_type": "code",
      "source": [
        "# 2. Define the MinimalTransformer model\n",
        "class MinimalTransformer(nn.Module):\n",
        "    def __init__(self, vocab_size, embed_size, num_heads, forward_expansion):\n",
        "        super(MinimalTransformer, self).__init__()\n",
        "        self.embed = nn.Embedding(vocab_size, embed_size)  # Embedding layer for character input\n",
        "        self.positional_encoding = nn.Parameter(torch.randn(1, 100, embed_size))  # Positional encoding\n",
        "        self.encoder_layer = nn.TransformerEncoderLayer(d_model=embed_size, nhead=num_heads)\n",
        "        self.transformer_encoder = nn.TransformerEncoder(self.encoder_layer, num_layers=1)\n",
        "        self.output_layer = nn.Linear(embed_size, vocab_size)  # Output layer to predict next character\n",
        "\n",
        "    def forward(self, x):\n",
        "        positions = torch.arange(0, x.size(1)).unsqueeze(0)  # Positional encoding for each input\n",
        "        x = self.embed(x) + self.positional_encoding[:, :x.size(1), :]  # Add positional encoding\n",
        "        x = self.transformer_encoder(x)  # Pass through the transformer encoder\n",
        "        x = self.output_layer(x)  # Output layer to get predictions\n",
        "        return x\n"
      ],
      "metadata": {
        "id": "l8yprJeKFS7a"
      },
      "execution_count": null,
      "outputs": []
    },
    {
      "cell_type": "code",
      "source": [
        "# 3. Training Loop\n",
        "def train_model(model, dataloader, epochs=10):\n",
        "    criterion = nn.CrossEntropyLoss()  # Loss function for classification (predicting the next character)\n",
        "    optimizer = optim.Adam(model.parameters())  # Optimizer (Adam)\n",
        "\n",
        "    for epoch in range(epochs):\n",
        "        model.train()  # Set the model to training mode\n",
        "        total_loss = 0.0\n",
        "        batch_count = 0\n",
        "\n",
        "        for batch_idx, (input_seq, target_seq) in enumerate(dataloader):\n",
        "            optimizer.zero_grad()  # Zero the gradients\n",
        "            output = model(input_seq)  # Get model predictions\n",
        "            loss = criterion(output.transpose(1, 2), target_seq)  # Compute the loss\n",
        "            loss.backward()  # Backpropagate the loss\n",
        "            optimizer.step()  # Update the model parameters\n",
        "\n",
        "            total_loss += loss.item()  # Accumulate total loss\n",
        "            batch_count += 1\n",
        "\n",
        "        average_loss = total_loss / batch_count  # Calculate average loss for the epoch\n",
        "        print(f'Epoch {epoch+1}, Average Loss: {average_loss}')\n"
      ],
      "metadata": {
        "id": "CWdhKyhpFS4J"
      },
      "execution_count": null,
      "outputs": []
    },
    {
      "cell_type": "code",
      "source": [
        "# 4. Sampling function\n",
        "def sample(model, dataset, start_str='a', max_length=10, temperature=1):\n",
        "    assert temperature > 0, \"Temperature must be greater than 0\"\n",
        "    model.eval()  # Switch model to evaluation mode\n",
        "    with torch.no_grad():\n",
        "        # Convert start string to tensor\n",
        "        chars = [dataset.char_to_int[c] for c in start_str]\n",
        "        input_seq = torch.tensor(chars).unsqueeze(0)  # Add batch dimension\n",
        "\n",
        "        output_name = start_str\n",
        "        for _ in range(max_length - len(start_str)):\n",
        "            output = model(input_seq)\n",
        "\n",
        "            # Apply temperature scaling\n",
        "            logits = output[0, -1] / temperature\n",
        "            probabilities = torch.softmax(logits, dim=0)\n",
        "\n",
        "            # Sample a character from the probability distribution\n",
        "            next_char_idx = torch.multinomial(probabilities, 1).item()\n",
        "            next_char = dataset.int_to_char[next_char_idx]\n",
        "\n",
        "            if next_char == ' ':  # Stop if end-of-sequence character (space) is reached\n",
        "                break\n",
        "\n",
        "            output_name += next_char\n",
        "            # Update the input sequence for the next iteration\n",
        "            input_seq = torch.cat([input_seq, torch.tensor([[next_char_idx]])], dim=1)\n",
        "\n",
        "        return output_name\n"
      ],
      "metadata": {
        "id": "AIYXQI-vFPgF"
      },
      "execution_count": null,
      "outputs": []
    },
    {
      "cell_type": "code",
      "source": [
        "# 5. Load the datasets and create dataloaders\n",
        "dataset_male = NameDataset('vardai_male.txt')\n",
        "dataset_female = NameDataset('vardai_female.txt')\n",
        "\n",
        "dataloader_male = DataLoader(dataset_male, batch_size=32, shuffle=True, collate_fn=pad_collate)\n",
        "dataloader_female = DataLoader(dataset_female, batch_size=32, shuffle=True, collate_fn=pad_collate)\n",
        "\n",
        "# 6. Initialize and train the models for male and female datasets separately\n",
        "\n",
        "# Model for male names\n",
        "model_male = MinimalTransformer(vocab_size=dataset_male.vocab_size, embed_size=128, num_heads=8, forward_expansion=4)\n",
        "train_model(model_male, dataloader_male, epochs=10)\n",
        "\n",
        "# Model for female names\n",
        "model_female = MinimalTransformer(vocab_size=dataset_female.vocab_size, embed_size=128, num_heads=8, forward_expansion=4)\n",
        "train_model(model_female, dataloader_female, epochs=10)\n"
      ],
      "metadata": {
        "colab": {
          "base_uri": "https://localhost:8080/"
        },
        "id": "WCYgiZ_sFPc9",
        "outputId": "458a4465-f60e-4a1b-f29d-0474c9c50350"
      },
      "execution_count": null,
      "outputs": [
        {
          "output_type": "stream",
          "name": "stderr",
          "text": [
            "/usr/local/lib/python3.10/dist-packages/torch/nn/modules/transformer.py:379: UserWarning: enable_nested_tensor is True, but self.use_nested_tensor is False because encoder_layer.self_attn.batch_first was not True(use batch_first for better inference performance)\n",
            "  warnings.warn(\n"
          ]
        },
        {
          "output_type": "stream",
          "name": "stdout",
          "text": [
            "Epoch 1, Average Loss: 1.5432148856564987\n",
            "Epoch 2, Average Loss: 1.2937601006720676\n",
            "Epoch 3, Average Loss: 1.2764292019457857\n",
            "Epoch 4, Average Loss: 1.2592528743192184\n",
            "Epoch 5, Average Loss: 1.2436731162150043\n",
            "Epoch 6, Average Loss: 1.2438203569286126\n",
            "Epoch 7, Average Loss: 1.2321173962482737\n",
            "Epoch 8, Average Loss: 1.2220501584455001\n",
            "Epoch 9, Average Loss: 1.2287033146077937\n",
            "Epoch 10, Average Loss: 1.2186952356464607\n",
            "Epoch 1, Average Loss: 1.6346066177339482\n",
            "Epoch 2, Average Loss: 1.403643612574814\n",
            "Epoch 3, Average Loss: 1.3693120730550665\n",
            "Epoch 4, Average Loss: 1.3547158402607853\n",
            "Epoch 5, Average Loss: 1.3382126603807722\n",
            "Epoch 6, Average Loss: 1.3376413610644806\n",
            "Epoch 7, Average Loss: 1.3242199385076536\n",
            "Epoch 8, Average Loss: 1.324897519627908\n",
            "Epoch 9, Average Loss: 1.3185926191788866\n",
            "Epoch 10, Average Loss: 1.310653969757539\n"
          ]
        }
      ]
    },
    {
      "cell_type": "code",
      "source": [
        "# 7. Generate names with the trained models\n",
        "\n",
        "# Generate male names\n",
        "print('Male names:')\n",
        "for _ in range(10):\n",
        "    generated_name_male = sample(model_male, dataset_male, start_str='A', temperature=0.5)\n",
        "    print(generated_name_male)\n",
        "\n",
        "# Generate female names\n",
        "print('\\nFemale names:')\n",
        "for _ in range(10):\n",
        "    generated_name_female = sample(model_female, dataset_female, start_str='At', temperature=1)\n",
        "    print(generated_name_female)\n"
      ],
      "metadata": {
        "colab": {
          "base_uri": "https://localhost:8080/"
        },
        "id": "4K227iXzFPZI",
        "outputId": "01497b6c-0315-45d8-d3c9-c3adc36f4a13"
      },
      "execution_count": null,
      "outputs": [
        {
          "output_type": "stream",
          "name": "stdout",
          "text": [
            "Male names:\n",
            "Aìmeñtas\n",
            "Ar̃drijus\n",
            "Aùmarijus\n",
            "Alĩdìdas\n",
            "Ailìmas\n",
            "Alènijus\n",
            "Akãdvius\n",
            "Alĩmas\n",
            "Algis\n",
            "Alãtas\n",
            "\n",
            "Female names:\n",
            "Atìssutà\n",
            "Attẽlė\n",
            "Atefiya\n",
            "Atántà\n",
            "Atejándė\n",
            "Athà\n",
            "Atãlėdra\n",
            "Atedmeda\n",
            "Atostà\n",
            "Atìma\n"
          ]
        }
      ]
    },
    {
      "cell_type": "code",
      "source": [
        "# Load datasets\n",
        "dataset_male = NameDataset('vardai_male.txt')\n",
        "dataset_female = NameDataset('vardai_female.txt')\n",
        "\n",
        "# Initialize dataloaders\n",
        "dataloader_male = DataLoader(dataset_male, batch_size=32, shuffle=True, collate_fn=pad_collate)\n",
        "dataloader_female = DataLoader(dataset_female, batch_size=32, shuffle=True, collate_fn=pad_collate)\n",
        "\n",
        "# Initialize models\n",
        "model_male = MinimalTransformer(vocab_size=dataset_male.vocab_size, embed_size=128, num_heads=8, forward_expansion=4)\n",
        "model_female = MinimalTransformer(vocab_size=dataset_female.vocab_size, embed_size=128, num_heads=8, forward_expansion=4)\n",
        "\n",
        "# Train models\n",
        "train_model(model_male, dataloader_male, epochs=50)\n",
        "train_model(model_female, dataloader_female, epochs=50)\n",
        "\n",
        "# Save models\n",
        "torch.save(model_male.state_dict(), 'model_male.pth')\n",
        "torch.save(model_female.state_dict(), 'model_female.pth')\n",
        "\n",
        "print(\"Models saved as 'model_male.pth' and 'model_female.pth'.\")\n"
      ],
      "metadata": {
        "colab": {
          "base_uri": "https://localhost:8080/"
        },
        "id": "JD622dReLGHg",
        "outputId": "652302fd-66e0-43fc-fb7e-7e8322486311"
      },
      "execution_count": null,
      "outputs": [
        {
          "output_type": "stream",
          "name": "stdout",
          "text": [
            "Epoch 1, Average Loss: 1.5602886075815878\n",
            "Epoch 2, Average Loss: 1.2941980238788384\n",
            "Epoch 3, Average Loss: 1.2748561437464943\n",
            "Epoch 4, Average Loss: 1.2524062276871737\n",
            "Epoch 5, Average Loss: 1.241983706300909\n",
            "Epoch 6, Average Loss: 1.2416706523619407\n",
            "Epoch 7, Average Loss: 1.229790358503988\n",
            "Epoch 8, Average Loss: 1.2330725813700147\n",
            "Epoch 9, Average Loss: 1.2239949264802223\n",
            "Epoch 10, Average Loss: 1.2267051117479308\n",
            "Epoch 11, Average Loss: 1.2235287767796477\n",
            "Epoch 12, Average Loss: 1.2178882055046145\n",
            "Epoch 13, Average Loss: 1.2147801528292255\n",
            "Epoch 14, Average Loss: 1.2116324793208728\n",
            "Epoch 15, Average Loss: 1.2155864480113194\n",
            "Epoch 16, Average Loss: 1.2108544446220082\n",
            "Epoch 17, Average Loss: 1.2063940837363567\n",
            "Epoch 18, Average Loss: 1.198803549955699\n",
            "Epoch 19, Average Loss: 1.1972083552809787\n",
            "Epoch 20, Average Loss: 1.2081821491895628\n",
            "Epoch 21, Average Loss: 1.2052663520347973\n",
            "Epoch 22, Average Loss: 1.1985134226231535\n",
            "Epoch 23, Average Loss: 1.2046968301465688\n",
            "Epoch 24, Average Loss: 1.206469072783289\n",
            "Epoch 25, Average Loss: 1.2016612168185967\n",
            "Epoch 26, Average Loss: 1.200491807677529\n",
            "Epoch 27, Average Loss: 1.192419176751917\n",
            "Epoch 28, Average Loss: 1.1956226175481623\n",
            "Epoch 29, Average Loss: 1.202570941822588\n",
            "Epoch 30, Average Loss: 1.19406518660301\n",
            "Epoch 31, Average Loss: 1.1959492327753178\n",
            "Epoch 32, Average Loss: 1.1938374175513087\n",
            "Epoch 33, Average Loss: 1.1937112384591222\n",
            "Epoch 34, Average Loss: 1.2028924044498728\n",
            "Epoch 35, Average Loss: 1.1955501988899608\n",
            "Epoch 36, Average Loss: 1.1906600047734157\n",
            "Epoch 37, Average Loss: 1.1890383180507944\n",
            "Epoch 38, Average Loss: 1.1918187619240816\n",
            "Epoch 39, Average Loss: 1.1981651270685116\n",
            "Epoch 40, Average Loss: 1.206669276410883\n",
            "Epoch 41, Average Loss: 1.1903782989367966\n",
            "Epoch 42, Average Loss: 1.1894422306502161\n",
            "Epoch 43, Average Loss: 1.1919408568666001\n",
            "Epoch 44, Average Loss: 1.193072554986339\n",
            "Epoch 45, Average Loss: 1.1860348572415753\n",
            "Epoch 46, Average Loss: 1.190104944646851\n",
            "Epoch 47, Average Loss: 1.1815613902304782\n",
            "Epoch 48, Average Loss: 1.1984034791465634\n",
            "Epoch 49, Average Loss: 1.190500949039932\n",
            "Epoch 50, Average Loss: 1.1907309756791296\n",
            "Epoch 1, Average Loss: 1.6220878156504237\n",
            "Epoch 2, Average Loss: 1.3897477648311989\n",
            "Epoch 3, Average Loss: 1.3575107576255512\n",
            "Epoch 4, Average Loss: 1.343721516150281\n",
            "Epoch 5, Average Loss: 1.3418931952096467\n",
            "Epoch 6, Average Loss: 1.3322037189526665\n",
            "Epoch 7, Average Loss: 1.3312445260528336\n",
            "Epoch 8, Average Loss: 1.3157598766169154\n",
            "Epoch 9, Average Loss: 1.3192417146568012\n",
            "Epoch 10, Average Loss: 1.3150228279873841\n",
            "Epoch 11, Average Loss: 1.3123800969661628\n",
            "Epoch 12, Average Loss: 1.3112838841918717\n",
            "Epoch 13, Average Loss: 1.3173400853809558\n",
            "Epoch 14, Average Loss: 1.306212816471444\n",
            "Epoch 15, Average Loss: 1.3028901949860996\n",
            "Epoch 16, Average Loss: 1.3036811262145078\n",
            "Epoch 17, Average Loss: 1.3049872575845933\n",
            "Epoch 18, Average Loss: 1.3027469358946149\n",
            "Epoch 19, Average Loss: 1.3152095930916923\n",
            "Epoch 20, Average Loss: 1.2969634622559512\n",
            "Epoch 21, Average Loss: 1.304882218066911\n",
            "Epoch 22, Average Loss: 1.3019277897096218\n",
            "Epoch 23, Average Loss: 1.3138417113096195\n",
            "Epoch 24, Average Loss: 1.2963025838808906\n",
            "Epoch 25, Average Loss: 1.298157080671841\n",
            "Epoch 26, Average Loss: 1.2899425361389505\n",
            "Epoch 27, Average Loss: 1.2973727928964716\n",
            "Epoch 28, Average Loss: 1.2971825841674232\n",
            "Epoch 29, Average Loss: 1.297585634360636\n",
            "Epoch 30, Average Loss: 1.285858152504254\n",
            "Epoch 31, Average Loss: 1.2892089333749355\n",
            "Epoch 32, Average Loss: 1.2827098441303224\n",
            "Epoch 33, Average Loss: 1.2845199466647959\n",
            "Epoch 34, Average Loss: 1.2885979288502742\n",
            "Epoch 35, Average Loss: 1.2968545712922748\n",
            "Epoch 36, Average Loss: 1.291100197268608\n",
            "Epoch 37, Average Loss: 1.2932603404037935\n",
            "Epoch 38, Average Loss: 1.295918087313946\n",
            "Epoch 39, Average Loss: 1.297705312420551\n",
            "Epoch 40, Average Loss: 1.2875359936764366\n",
            "Epoch 41, Average Loss: 1.2937483482791068\n",
            "Epoch 42, Average Loss: 1.2851109796000602\n",
            "Epoch 43, Average Loss: 1.2883654277127488\n",
            "Epoch 44, Average Loss: 1.2856689001384534\n",
            "Epoch 45, Average Loss: 1.2850147611216496\n",
            "Epoch 46, Average Loss: 1.2889342473861867\n",
            "Epoch 47, Average Loss: 1.2828751417030966\n",
            "Epoch 48, Average Loss: 1.2846045879493082\n",
            "Epoch 49, Average Loss: 1.2767239616329509\n",
            "Epoch 50, Average Loss: 1.285806397298225\n",
            "Models saved as 'model_male.pth' and 'model_female.pth'.\n"
          ]
        }
      ]
    },
    {
      "cell_type": "code",
      "source": [
        "print('Male names:')\n",
        "for _ in range(10):\n",
        "    generated_name_male = sample(model_male, dataset_male, start_str='A', temperature= 1)\n",
        "    print(generated_name_male)\n",
        "\n",
        "# Generate female names\n",
        "print('\\nFemale names:')\n",
        "for _ in range(10):\n",
        "    generated_name_female = sample(model_female, dataset_female, start_str='Be', temperature=1)\n",
        "    print(generated_name_female)"
      ],
      "metadata": {
        "colab": {
          "base_uri": "https://localhost:8080/"
        },
        "id": "a4JwOEPURrqk",
        "outputId": "4291fcd3-d7de-4c45-9884-5327d9271ec6"
      },
      "execution_count": null,
      "outputs": [
        {
          "output_type": "stream",
          "name": "stdout",
          "text": [
            "Male names:\n",
            "Aulinis\n",
            "Alĩvanas\n",
            "Arivius\n",
            "Avìmierda\n",
            "Alèlius\n",
            "Alairidas\n",
            "Ãstranas\n",
            "Aĩdanyk\n",
            "Álvius\n",
            "Añgyzs\n",
            "\n",
            "Female names:\n",
            "Bekatà\n",
            "Bevymildė\n",
            "Bebina\n",
            "Bece\n",
            "Bevìma\n",
            "Bẽdė\n",
            "Bèngija\n",
            "Berù\n",
            "Beòlė\n",
            "Bevìlijà\n"
          ]
        }
      ]
    },
    {
      "cell_type": "code",
      "source": [
        "%%writefile app.py\n",
        "import torch\n",
        "import torch.nn as nn\n",
        "import torch.nn.functional as F\n",
        "from torch.utils.data import Dataset\n",
        "import os\n",
        "import streamlit as st\n",
        "\n",
        "# 1. Define the MinimalTransformer model\n",
        "class MinimalTransformer(nn.Module):\n",
        "    def __init__(self, vocab_size, embed_size, num_heads, forward_expansion):\n",
        "        super(MinimalTransformer, self).__init__()\n",
        "        self.embed = nn.Embedding(vocab_size, embed_size)  # Embedding layer for character input\n",
        "        self.positional_encoding = nn.Parameter(torch.randn(1, 100, embed_size))  # Positional encoding\n",
        "        self.encoder_layer = nn.TransformerEncoderLayer(d_model=embed_size, nhead=num_heads)\n",
        "        self.transformer_encoder = nn.TransformerEncoder(self.encoder_layer, num_layers=1)\n",
        "        self.output_layer = nn.Linear(embed_size, vocab_size)  # Output layer to predict next character\n",
        "\n",
        "    def forward(self, x):\n",
        "        positions = torch.arange(0, x.size(1)).unsqueeze(0)  # Positional encoding for each input\n",
        "        x = self.embed(x) + self.positional_encoding[:, :x.size(1), :]  # Add positional encoding\n",
        "        x = self.transformer_encoder(x)  # Pass through the transformer encoder\n",
        "        x = self.output_layer(x)  # Output layer to get predictions\n",
        "        return x\n",
        "\n",
        "\n",
        "# 2. Define the NameDataset class\n",
        "class NameDataset(Dataset):\n",
        "    def __init__(self, txt_file):\n",
        "        with open(txt_file, 'r', encoding='utf-8') as f:\n",
        "            self.names = [line.strip() for line in f]\n",
        "        self.chars = sorted(list(set(''.join(self.names)))) + [' ']\n",
        "        self.vocab_size = len(self.chars)\n",
        "        self.char_to_int = {c: i for i, c in enumerate(self.chars)}\n",
        "        self.int_to_char = {i: c for i, c in enumerate(self.chars)}\n",
        "\n",
        "    def __len__(self):\n",
        "        return len(self.names)\n",
        "\n",
        "    def __getitem__(self, idx):\n",
        "        name = self.names[idx] + ' '\n",
        "        encoded_name = [self.char_to_int[char] for char in name]\n",
        "        return torch.tensor(encoded_name)\n",
        "\n",
        "\n",
        "# Function to generate a name from the trained model\n",
        "def generate_name(model, dataset, start_chars, max_length=30, temperature=1.0):\n",
        "    model.eval()\n",
        "    start_chars = start_chars.capitalize()  # Ensure only the first character is uppercase\n",
        "    input_tensor = torch.tensor([dataset.char_to_int[char] for char in start_chars], dtype=torch.long).unsqueeze(0)\n",
        "    generated_name = start_chars\n",
        "\n",
        "    with torch.no_grad():\n",
        "        for _ in range(max_length - len(start_chars)):\n",
        "            output = model(input_tensor)\n",
        "            logits = output[0, -1, :] / temperature  # Adjust temperature to control randomness\n",
        "            probabilities = F.softmax(logits, dim=-1).cpu().numpy()\n",
        "\n",
        "            # Sample from the probabilities to choose the next character\n",
        "            predicted_char_idx = torch.multinomial(torch.tensor(probabilities), num_samples=1).item()\n",
        "            predicted_char = dataset.int_to_char[predicted_char_idx]\n",
        "\n",
        "            if predicted_char == ' ':\n",
        "                break\n",
        "            generated_name += predicted_char\n",
        "            input_tensor = torch.cat([input_tensor, torch.tensor([[predicted_char_idx]], dtype=torch.long)], dim=1)\n",
        "\n",
        "    return generated_name\n",
        "\n",
        "\n",
        "# Streamlit interface\n",
        "st.title(\"Lietuviškų vardų generatorius\")\n",
        "\n",
        "# User selects name type\n",
        "name_type = st.selectbox(\"Pasirinkite vardo tipą\", [\"Vyriškas\", \"Moteriškas\"])\n",
        "\n",
        "# Load the correct dataset and model\n",
        "if not os.path.exists('model_male.pth') or not os.path.exists('model_female.pth'):\n",
        "    st.error(\"Model files are missing. Please ensure 'model_male.pth' and 'model_female.pth' are in the correct directory.\")\n",
        "else:\n",
        "    if name_type == \"Vyriškas\":\n",
        "        dataset = NameDataset('vardai_male.txt')\n",
        "        model = MinimalTransformer(vocab_size=dataset.vocab_size, embed_size=128, num_heads=8, forward_expansion=4)\n",
        "        model.load_state_dict(torch.load('model_male.pth'), strict=False)\n",
        "    else:\n",
        "        dataset = NameDataset('vardai_female.txt')\n",
        "        model = MinimalTransformer(vocab_size=dataset.vocab_size, embed_size=128, num_heads=8, forward_expansion=4)\n",
        "        model.load_state_dict(torch.load('model_female.pth'), strict=False)\n",
        "\n",
        "    # Input field for the starting letter(s)\n",
        "    start_chars = st.text_input(\"Įveskite pradines raides\", \"\")\n",
        "\n",
        "    # Slider for temperature\n",
        "    temperature = st.slider(\"Pasirinkite atsitiktinumo lygį (temperatūra)\", 0.5, 2.0, 1.0)\n",
        "\n",
        "    # Button to generate a name\n",
        "    if st.button(\"Generuoti vardą\"):\n",
        "        if start_chars:\n",
        "            # Generate and display the name\n",
        "            name = generate_name(model, dataset, start_chars, temperature=temperature)\n",
        "            st.write(f\"Sugeneruotas Vardas: {name}\")\n",
        "        else:\n",
        "            st.warning(\"Prašome įvesti pradines raides!\")\n"
      ],
      "metadata": {
        "colab": {
          "base_uri": "https://localhost:8080/"
        },
        "id": "XTf8L0k2Vqt4",
        "outputId": "17d7c670-08f5-4c45-cd4a-3fd8e842477d"
      },
      "execution_count": null,
      "outputs": [
        {
          "output_type": "stream",
          "name": "stdout",
          "text": [
            "Overwriting app.py\n"
          ]
        }
      ]
    },
    {
      "cell_type": "code",
      "source": [
        "from pyngrok import ngrok, conf\n",
        "\n",
        "# Configure ngrok with your authentication token\n",
        "ngrok.set_auth_token(\"2pA2nwpPDy9sd9LDIWbHgGVGePk_7r2jWaiKrYhnRDMpQd7r1\")\n",
        "\n",
        "# Configure ngrok to use the default free server region\n",
        "conf.get_default().region = \"us\"\n",
        "\n",
        "# Set up the Streamlit tunnel on port 8501 (the default for Streamlit)\n",
        "tunnel = ngrok.connect(8501)\n",
        "\n",
        "# Get the public URL of the tunnel\n",
        "public_url = tunnel.public_url\n",
        "print(f\"Streamlit app is live at: {public_url}\")"
      ],
      "metadata": {
        "colab": {
          "base_uri": "https://localhost:8080/"
        },
        "id": "2rbZNlQfWWBX",
        "outputId": "947b5226-5a76-4ec8-b9d3-ca286e860d4b"
      },
      "execution_count": null,
      "outputs": [
        {
          "output_type": "stream",
          "name": "stdout",
          "text": [
            "Streamlit app is live at: https://6a00-34-125-139-22.ngrok-free.app\n"
          ]
        }
      ]
    },
    {
      "cell_type": "code",
      "source": [
        "!streamlit run app.py"
      ],
      "metadata": {
        "colab": {
          "base_uri": "https://localhost:8080/"
        },
        "id": "VMXPioosWcxv",
        "outputId": "8e2d8e64-b5ef-46da-b28b-705e908db6b4"
      },
      "execution_count": null,
      "outputs": [
        {
          "output_type": "stream",
          "name": "stdout",
          "text": [
            "\n",
            "Collecting usage statistics. To deactivate, set browser.gatherUsageStats to false.\n",
            "\u001b[0m\n",
            "\u001b[0m\n",
            "\u001b[34m\u001b[1m  You can now view your Streamlit app in your browser.\u001b[0m\n",
            "\u001b[0m\n",
            "\u001b[34m  Local URL: \u001b[0m\u001b[1mhttp://localhost:8501\u001b[0m\n",
            "\u001b[34m  Network URL: \u001b[0m\u001b[1mhttp://172.28.0.12:8501\u001b[0m\n",
            "\u001b[34m  External URL: \u001b[0m\u001b[1mhttp://34.125.139.22:8501\u001b[0m\n",
            "\u001b[0m\n",
            "/usr/local/lib/python3.10/dist-packages/torch/nn/modules/transformer.py:379: UserWarning: enable_nested_tensor is True, but self.use_nested_tensor is False because encoder_layer.self_attn.batch_first was not True(use batch_first for better inference performance)\n",
            "  warnings.warn(\n",
            "/content/app.py:83: FutureWarning: You are using `torch.load` with `weights_only=False` (the current default value), which uses the default pickle module implicitly. It is possible to construct malicious pickle data which will execute arbitrary code during unpickling (See https://github.com/pytorch/pytorch/blob/main/SECURITY.md#untrusted-models for more details). In a future release, the default value for `weights_only` will be flipped to `True`. This limits the functions that could be executed during unpickling. Arbitrary objects will no longer be allowed to be loaded via this mode unless they are explicitly allowlisted by the user via `torch.serialization.add_safe_globals`. We recommend you start setting `weights_only=True` for any use case where you don't have full control of the loaded file. Please open an issue on GitHub for any issues related to this experimental feature.\n",
            "  model.load_state_dict(torch.load('model_male.pth'), strict=False)\n",
            "2024-11-27 11:38:33.772 Examining the path of torch.classes raised: Tried to instantiate class '__path__._path', but it does not exist! Ensure that it is registered via torch::class_\n",
            "/content/app.py:83: FutureWarning: You are using `torch.load` with `weights_only=False` (the current default value), which uses the default pickle module implicitly. It is possible to construct malicious pickle data which will execute arbitrary code during unpickling (See https://github.com/pytorch/pytorch/blob/main/SECURITY.md#untrusted-models for more details). In a future release, the default value for `weights_only` will be flipped to `True`. This limits the functions that could be executed during unpickling. Arbitrary objects will no longer be allowed to be loaded via this mode unless they are explicitly allowlisted by the user via `torch.serialization.add_safe_globals`. We recommend you start setting `weights_only=True` for any use case where you don't have full control of the loaded file. Please open an issue on GitHub for any issues related to this experimental feature.\n",
            "  model.load_state_dict(torch.load('model_male.pth'), strict=False)\n",
            "2024-11-27 11:39:25.202 Examining the path of torch.classes raised: Tried to instantiate class '__path__._path', but it does not exist! Ensure that it is registered via torch::class_\n",
            "/content/app.py:83: FutureWarning: You are using `torch.load` with `weights_only=False` (the current default value), which uses the default pickle module implicitly. It is possible to construct malicious pickle data which will execute arbitrary code during unpickling (See https://github.com/pytorch/pytorch/blob/main/SECURITY.md#untrusted-models for more details). In a future release, the default value for `weights_only` will be flipped to `True`. This limits the functions that could be executed during unpickling. Arbitrary objects will no longer be allowed to be loaded via this mode unless they are explicitly allowlisted by the user via `torch.serialization.add_safe_globals`. We recommend you start setting `weights_only=True` for any use case where you don't have full control of the loaded file. Please open an issue on GitHub for any issues related to this experimental feature.\n",
            "  model.load_state_dict(torch.load('model_male.pth'), strict=False)\n",
            "/content/app.py:83: FutureWarning: You are using `torch.load` with `weights_only=False` (the current default value), which uses the default pickle module implicitly. It is possible to construct malicious pickle data which will execute arbitrary code during unpickling (See https://github.com/pytorch/pytorch/blob/main/SECURITY.md#untrusted-models for more details). In a future release, the default value for `weights_only` will be flipped to `True`. This limits the functions that could be executed during unpickling. Arbitrary objects will no longer be allowed to be loaded via this mode unless they are explicitly allowlisted by the user via `torch.serialization.add_safe_globals`. We recommend you start setting `weights_only=True` for any use case where you don't have full control of the loaded file. Please open an issue on GitHub for any issues related to this experimental feature.\n",
            "  model.load_state_dict(torch.load('model_male.pth'), strict=False)\n",
            "/content/app.py:83: FutureWarning: You are using `torch.load` with `weights_only=False` (the current default value), which uses the default pickle module implicitly. It is possible to construct malicious pickle data which will execute arbitrary code during unpickling (See https://github.com/pytorch/pytorch/blob/main/SECURITY.md#untrusted-models for more details). In a future release, the default value for `weights_only` will be flipped to `True`. This limits the functions that could be executed during unpickling. Arbitrary objects will no longer be allowed to be loaded via this mode unless they are explicitly allowlisted by the user via `torch.serialization.add_safe_globals`. We recommend you start setting `weights_only=True` for any use case where you don't have full control of the loaded file. Please open an issue on GitHub for any issues related to this experimental feature.\n",
            "  model.load_state_dict(torch.load('model_male.pth'), strict=False)\n",
            "/content/app.py:83: FutureWarning: You are using `torch.load` with `weights_only=False` (the current default value), which uses the default pickle module implicitly. It is possible to construct malicious pickle data which will execute arbitrary code during unpickling (See https://github.com/pytorch/pytorch/blob/main/SECURITY.md#untrusted-models for more details). In a future release, the default value for `weights_only` will be flipped to `True`. This limits the functions that could be executed during unpickling. Arbitrary objects will no longer be allowed to be loaded via this mode unless they are explicitly allowlisted by the user via `torch.serialization.add_safe_globals`. We recommend you start setting `weights_only=True` for any use case where you don't have full control of the loaded file. Please open an issue on GitHub for any issues related to this experimental feature.\n",
            "  model.load_state_dict(torch.load('model_male.pth'), strict=False)\n",
            "/content/app.py:83: FutureWarning: You are using `torch.load` with `weights_only=False` (the current default value), which uses the default pickle module implicitly. It is possible to construct malicious pickle data which will execute arbitrary code during unpickling (See https://github.com/pytorch/pytorch/blob/main/SECURITY.md#untrusted-models for more details). In a future release, the default value for `weights_only` will be flipped to `True`. This limits the functions that could be executed during unpickling. Arbitrary objects will no longer be allowed to be loaded via this mode unless they are explicitly allowlisted by the user via `torch.serialization.add_safe_globals`. We recommend you start setting `weights_only=True` for any use case where you don't have full control of the loaded file. Please open an issue on GitHub for any issues related to this experimental feature.\n",
            "  model.load_state_dict(torch.load('model_male.pth'), strict=False)\n",
            "/content/app.py:83: FutureWarning: You are using `torch.load` with `weights_only=False` (the current default value), which uses the default pickle module implicitly. It is possible to construct malicious pickle data which will execute arbitrary code during unpickling (See https://github.com/pytorch/pytorch/blob/main/SECURITY.md#untrusted-models for more details). In a future release, the default value for `weights_only` will be flipped to `True`. This limits the functions that could be executed during unpickling. Arbitrary objects will no longer be allowed to be loaded via this mode unless they are explicitly allowlisted by the user via `torch.serialization.add_safe_globals`. We recommend you start setting `weights_only=True` for any use case where you don't have full control of the loaded file. Please open an issue on GitHub for any issues related to this experimental feature.\n",
            "  model.load_state_dict(torch.load('model_male.pth'), strict=False)\n",
            "/content/app.py:83: FutureWarning: You are using `torch.load` with `weights_only=False` (the current default value), which uses the default pickle module implicitly. It is possible to construct malicious pickle data which will execute arbitrary code during unpickling (See https://github.com/pytorch/pytorch/blob/main/SECURITY.md#untrusted-models for more details). In a future release, the default value for `weights_only` will be flipped to `True`. This limits the functions that could be executed during unpickling. Arbitrary objects will no longer be allowed to be loaded via this mode unless they are explicitly allowlisted by the user via `torch.serialization.add_safe_globals`. We recommend you start setting `weights_only=True` for any use case where you don't have full control of the loaded file. Please open an issue on GitHub for any issues related to this experimental feature.\n",
            "  model.load_state_dict(torch.load('model_male.pth'), strict=False)\n",
            "/content/app.py:83: FutureWarning: You are using `torch.load` with `weights_only=False` (the current default value), which uses the default pickle module implicitly. It is possible to construct malicious pickle data which will execute arbitrary code during unpickling (See https://github.com/pytorch/pytorch/blob/main/SECURITY.md#untrusted-models for more details). In a future release, the default value for `weights_only` will be flipped to `True`. This limits the functions that could be executed during unpickling. Arbitrary objects will no longer be allowed to be loaded via this mode unless they are explicitly allowlisted by the user via `torch.serialization.add_safe_globals`. We recommend you start setting `weights_only=True` for any use case where you don't have full control of the loaded file. Please open an issue on GitHub for any issues related to this experimental feature.\n",
            "  model.load_state_dict(torch.load('model_male.pth'), strict=False)\n",
            "2024-11-27 11:39:39.332 Examining the path of torch.classes raised: Tried to instantiate class '__path__._path', but it does not exist! Ensure that it is registered via torch::class_\n",
            "/content/app.py:83: FutureWarning: You are using `torch.load` with `weights_only=False` (the current default value), which uses the default pickle module implicitly. It is possible to construct malicious pickle data which will execute arbitrary code during unpickling (See https://github.com/pytorch/pytorch/blob/main/SECURITY.md#untrusted-models for more details). In a future release, the default value for `weights_only` will be flipped to `True`. This limits the functions that could be executed during unpickling. Arbitrary objects will no longer be allowed to be loaded via this mode unless they are explicitly allowlisted by the user via `torch.serialization.add_safe_globals`. We recommend you start setting `weights_only=True` for any use case where you don't have full control of the loaded file. Please open an issue on GitHub for any issues related to this experimental feature.\n",
            "  model.load_state_dict(torch.load('model_male.pth'), strict=False)\n",
            "/content/app.py:83: FutureWarning: You are using `torch.load` with `weights_only=False` (the current default value), which uses the default pickle module implicitly. It is possible to construct malicious pickle data which will execute arbitrary code during unpickling (See https://github.com/pytorch/pytorch/blob/main/SECURITY.md#untrusted-models for more details). In a future release, the default value for `weights_only` will be flipped to `True`. This limits the functions that could be executed during unpickling. Arbitrary objects will no longer be allowed to be loaded via this mode unless they are explicitly allowlisted by the user via `torch.serialization.add_safe_globals`. We recommend you start setting `weights_only=True` for any use case where you don't have full control of the loaded file. Please open an issue on GitHub for any issues related to this experimental feature.\n",
            "  model.load_state_dict(torch.load('model_male.pth'), strict=False)\n",
            "/content/app.py:83: FutureWarning: You are using `torch.load` with `weights_only=False` (the current default value), which uses the default pickle module implicitly. It is possible to construct malicious pickle data which will execute arbitrary code during unpickling (See https://github.com/pytorch/pytorch/blob/main/SECURITY.md#untrusted-models for more details). In a future release, the default value for `weights_only` will be flipped to `True`. This limits the functions that could be executed during unpickling. Arbitrary objects will no longer be allowed to be loaded via this mode unless they are explicitly allowlisted by the user via `torch.serialization.add_safe_globals`. We recommend you start setting `weights_only=True` for any use case where you don't have full control of the loaded file. Please open an issue on GitHub for any issues related to this experimental feature.\n",
            "  model.load_state_dict(torch.load('model_male.pth'), strict=False)\n",
            "/content/app.py:83: FutureWarning: You are using `torch.load` with `weights_only=False` (the current default value), which uses the default pickle module implicitly. It is possible to construct malicious pickle data which will execute arbitrary code during unpickling (See https://github.com/pytorch/pytorch/blob/main/SECURITY.md#untrusted-models for more details). In a future release, the default value for `weights_only` will be flipped to `True`. This limits the functions that could be executed during unpickling. Arbitrary objects will no longer be allowed to be loaded via this mode unless they are explicitly allowlisted by the user via `torch.serialization.add_safe_globals`. We recommend you start setting `weights_only=True` for any use case where you don't have full control of the loaded file. Please open an issue on GitHub for any issues related to this experimental feature.\n",
            "  model.load_state_dict(torch.load('model_male.pth'), strict=False)\n",
            "/content/app.py:83: FutureWarning: You are using `torch.load` with `weights_only=False` (the current default value), which uses the default pickle module implicitly. It is possible to construct malicious pickle data which will execute arbitrary code during unpickling (See https://github.com/pytorch/pytorch/blob/main/SECURITY.md#untrusted-models for more details). In a future release, the default value for `weights_only` will be flipped to `True`. This limits the functions that could be executed during unpickling. Arbitrary objects will no longer be allowed to be loaded via this mode unless they are explicitly allowlisted by the user via `torch.serialization.add_safe_globals`. We recommend you start setting `weights_only=True` for any use case where you don't have full control of the loaded file. Please open an issue on GitHub for any issues related to this experimental feature.\n",
            "  model.load_state_dict(torch.load('model_male.pth'), strict=False)\n",
            "/content/app.py:83: FutureWarning: You are using `torch.load` with `weights_only=False` (the current default value), which uses the default pickle module implicitly. It is possible to construct malicious pickle data which will execute arbitrary code during unpickling (See https://github.com/pytorch/pytorch/blob/main/SECURITY.md#untrusted-models for more details). In a future release, the default value for `weights_only` will be flipped to `True`. This limits the functions that could be executed during unpickling. Arbitrary objects will no longer be allowed to be loaded via this mode unless they are explicitly allowlisted by the user via `torch.serialization.add_safe_globals`. We recommend you start setting `weights_only=True` for any use case where you don't have full control of the loaded file. Please open an issue on GitHub for any issues related to this experimental feature.\n",
            "  model.load_state_dict(torch.load('model_male.pth'), strict=False)\n",
            "/content/app.py:83: FutureWarning: You are using `torch.load` with `weights_only=False` (the current default value), which uses the default pickle module implicitly. It is possible to construct malicious pickle data which will execute arbitrary code during unpickling (See https://github.com/pytorch/pytorch/blob/main/SECURITY.md#untrusted-models for more details). In a future release, the default value for `weights_only` will be flipped to `True`. This limits the functions that could be executed during unpickling. Arbitrary objects will no longer be allowed to be loaded via this mode unless they are explicitly allowlisted by the user via `torch.serialization.add_safe_globals`. We recommend you start setting `weights_only=True` for any use case where you don't have full control of the loaded file. Please open an issue on GitHub for any issues related to this experimental feature.\n",
            "  model.load_state_dict(torch.load('model_male.pth'), strict=False)\n",
            "/content/app.py:83: FutureWarning: You are using `torch.load` with `weights_only=False` (the current default value), which uses the default pickle module implicitly. It is possible to construct malicious pickle data which will execute arbitrary code during unpickling (See https://github.com/pytorch/pytorch/blob/main/SECURITY.md#untrusted-models for more details). In a future release, the default value for `weights_only` will be flipped to `True`. This limits the functions that could be executed during unpickling. Arbitrary objects will no longer be allowed to be loaded via this mode unless they are explicitly allowlisted by the user via `torch.serialization.add_safe_globals`. We recommend you start setting `weights_only=True` for any use case where you don't have full control of the loaded file. Please open an issue on GitHub for any issues related to this experimental feature.\n",
            "  model.load_state_dict(torch.load('model_male.pth'), strict=False)\n",
            "/content/app.py:83: FutureWarning: You are using `torch.load` with `weights_only=False` (the current default value), which uses the default pickle module implicitly. It is possible to construct malicious pickle data which will execute arbitrary code during unpickling (See https://github.com/pytorch/pytorch/blob/main/SECURITY.md#untrusted-models for more details). In a future release, the default value for `weights_only` will be flipped to `True`. This limits the functions that could be executed during unpickling. Arbitrary objects will no longer be allowed to be loaded via this mode unless they are explicitly allowlisted by the user via `torch.serialization.add_safe_globals`. We recommend you start setting `weights_only=True` for any use case where you don't have full control of the loaded file. Please open an issue on GitHub for any issues related to this experimental feature.\n",
            "  model.load_state_dict(torch.load('model_male.pth'), strict=False)\n",
            "/content/app.py:83: FutureWarning: You are using `torch.load` with `weights_only=False` (the current default value), which uses the default pickle module implicitly. It is possible to construct malicious pickle data which will execute arbitrary code during unpickling (See https://github.com/pytorch/pytorch/blob/main/SECURITY.md#untrusted-models for more details). In a future release, the default value for `weights_only` will be flipped to `True`. This limits the functions that could be executed during unpickling. Arbitrary objects will no longer be allowed to be loaded via this mode unless they are explicitly allowlisted by the user via `torch.serialization.add_safe_globals`. We recommend you start setting `weights_only=True` for any use case where you don't have full control of the loaded file. Please open an issue on GitHub for any issues related to this experimental feature.\n",
            "  model.load_state_dict(torch.load('model_male.pth'), strict=False)\n",
            "/content/app.py:83: FutureWarning: You are using `torch.load` with `weights_only=False` (the current default value), which uses the default pickle module implicitly. It is possible to construct malicious pickle data which will execute arbitrary code during unpickling (See https://github.com/pytorch/pytorch/blob/main/SECURITY.md#untrusted-models for more details). In a future release, the default value for `weights_only` will be flipped to `True`. This limits the functions that could be executed during unpickling. Arbitrary objects will no longer be allowed to be loaded via this mode unless they are explicitly allowlisted by the user via `torch.serialization.add_safe_globals`. We recommend you start setting `weights_only=True` for any use case where you don't have full control of the loaded file. Please open an issue on GitHub for any issues related to this experimental feature.\n",
            "  model.load_state_dict(torch.load('model_male.pth'), strict=False)\n",
            "/content/app.py:83: FutureWarning: You are using `torch.load` with `weights_only=False` (the current default value), which uses the default pickle module implicitly. It is possible to construct malicious pickle data which will execute arbitrary code during unpickling (See https://github.com/pytorch/pytorch/blob/main/SECURITY.md#untrusted-models for more details). In a future release, the default value for `weights_only` will be flipped to `True`. This limits the functions that could be executed during unpickling. Arbitrary objects will no longer be allowed to be loaded via this mode unless they are explicitly allowlisted by the user via `torch.serialization.add_safe_globals`. We recommend you start setting `weights_only=True` for any use case where you don't have full control of the loaded file. Please open an issue on GitHub for any issues related to this experimental feature.\n",
            "  model.load_state_dict(torch.load('model_male.pth'), strict=False)\n",
            "/content/app.py:83: FutureWarning: You are using `torch.load` with `weights_only=False` (the current default value), which uses the default pickle module implicitly. It is possible to construct malicious pickle data which will execute arbitrary code during unpickling (See https://github.com/pytorch/pytorch/blob/main/SECURITY.md#untrusted-models for more details). In a future release, the default value for `weights_only` will be flipped to `True`. This limits the functions that could be executed during unpickling. Arbitrary objects will no longer be allowed to be loaded via this mode unless they are explicitly allowlisted by the user via `torch.serialization.add_safe_globals`. We recommend you start setting `weights_only=True` for any use case where you don't have full control of the loaded file. Please open an issue on GitHub for any issues related to this experimental feature.\n",
            "  model.load_state_dict(torch.load('model_male.pth'), strict=False)\n",
            "/content/app.py:83: FutureWarning: You are using `torch.load` with `weights_only=False` (the current default value), which uses the default pickle module implicitly. It is possible to construct malicious pickle data which will execute arbitrary code during unpickling (See https://github.com/pytorch/pytorch/blob/main/SECURITY.md#untrusted-models for more details). In a future release, the default value for `weights_only` will be flipped to `True`. This limits the functions that could be executed during unpickling. Arbitrary objects will no longer be allowed to be loaded via this mode unless they are explicitly allowlisted by the user via `torch.serialization.add_safe_globals`. We recommend you start setting `weights_only=True` for any use case where you don't have full control of the loaded file. Please open an issue on GitHub for any issues related to this experimental feature.\n",
            "  model.load_state_dict(torch.load('model_male.pth'), strict=False)\n",
            "/content/app.py:83: FutureWarning: You are using `torch.load` with `weights_only=False` (the current default value), which uses the default pickle module implicitly. It is possible to construct malicious pickle data which will execute arbitrary code during unpickling (See https://github.com/pytorch/pytorch/blob/main/SECURITY.md#untrusted-models for more details). In a future release, the default value for `weights_only` will be flipped to `True`. This limits the functions that could be executed during unpickling. Arbitrary objects will no longer be allowed to be loaded via this mode unless they are explicitly allowlisted by the user via `torch.serialization.add_safe_globals`. We recommend you start setting `weights_only=True` for any use case where you don't have full control of the loaded file. Please open an issue on GitHub for any issues related to this experimental feature.\n",
            "  model.load_state_dict(torch.load('model_male.pth'), strict=False)\n",
            "/content/app.py:83: FutureWarning: You are using `torch.load` with `weights_only=False` (the current default value), which uses the default pickle module implicitly. It is possible to construct malicious pickle data which will execute arbitrary code during unpickling (See https://github.com/pytorch/pytorch/blob/main/SECURITY.md#untrusted-models for more details). In a future release, the default value for `weights_only` will be flipped to `True`. This limits the functions that could be executed during unpickling. Arbitrary objects will no longer be allowed to be loaded via this mode unless they are explicitly allowlisted by the user via `torch.serialization.add_safe_globals`. We recommend you start setting `weights_only=True` for any use case where you don't have full control of the loaded file. Please open an issue on GitHub for any issues related to this experimental feature.\n",
            "  model.load_state_dict(torch.load('model_male.pth'), strict=False)\n",
            "/content/app.py:83: FutureWarning: You are using `torch.load` with `weights_only=False` (the current default value), which uses the default pickle module implicitly. It is possible to construct malicious pickle data which will execute arbitrary code during unpickling (See https://github.com/pytorch/pytorch/blob/main/SECURITY.md#untrusted-models for more details). In a future release, the default value for `weights_only` will be flipped to `True`. This limits the functions that could be executed during unpickling. Arbitrary objects will no longer be allowed to be loaded via this mode unless they are explicitly allowlisted by the user via `torch.serialization.add_safe_globals`. We recommend you start setting `weights_only=True` for any use case where you don't have full control of the loaded file. Please open an issue on GitHub for any issues related to this experimental feature.\n",
            "  model.load_state_dict(torch.load('model_male.pth'), strict=False)\n",
            "/content/app.py:83: FutureWarning: You are using `torch.load` with `weights_only=False` (the current default value), which uses the default pickle module implicitly. It is possible to construct malicious pickle data which will execute arbitrary code during unpickling (See https://github.com/pytorch/pytorch/blob/main/SECURITY.md#untrusted-models for more details). In a future release, the default value for `weights_only` will be flipped to `True`. This limits the functions that could be executed during unpickling. Arbitrary objects will no longer be allowed to be loaded via this mode unless they are explicitly allowlisted by the user via `torch.serialization.add_safe_globals`. We recommend you start setting `weights_only=True` for any use case where you don't have full control of the loaded file. Please open an issue on GitHub for any issues related to this experimental feature.\n",
            "  model.load_state_dict(torch.load('model_male.pth'), strict=False)\n",
            "/content/app.py:83: FutureWarning: You are using `torch.load` with `weights_only=False` (the current default value), which uses the default pickle module implicitly. It is possible to construct malicious pickle data which will execute arbitrary code during unpickling (See https://github.com/pytorch/pytorch/blob/main/SECURITY.md#untrusted-models for more details). In a future release, the default value for `weights_only` will be flipped to `True`. This limits the functions that could be executed during unpickling. Arbitrary objects will no longer be allowed to be loaded via this mode unless they are explicitly allowlisted by the user via `torch.serialization.add_safe_globals`. We recommend you start setting `weights_only=True` for any use case where you don't have full control of the loaded file. Please open an issue on GitHub for any issues related to this experimental feature.\n",
            "  model.load_state_dict(torch.load('model_male.pth'), strict=False)\n",
            "/content/app.py:87: FutureWarning: You are using `torch.load` with `weights_only=False` (the current default value), which uses the default pickle module implicitly. It is possible to construct malicious pickle data which will execute arbitrary code during unpickling (See https://github.com/pytorch/pytorch/blob/main/SECURITY.md#untrusted-models for more details). In a future release, the default value for `weights_only` will be flipped to `True`. This limits the functions that could be executed during unpickling. Arbitrary objects will no longer be allowed to be loaded via this mode unless they are explicitly allowlisted by the user via `torch.serialization.add_safe_globals`. We recommend you start setting `weights_only=True` for any use case where you don't have full control of the loaded file. Please open an issue on GitHub for any issues related to this experimental feature.\n",
            "  model.load_state_dict(torch.load('model_female.pth'), strict=False)\n",
            "/content/app.py:87: FutureWarning: You are using `torch.load` with `weights_only=False` (the current default value), which uses the default pickle module implicitly. It is possible to construct malicious pickle data which will execute arbitrary code during unpickling (See https://github.com/pytorch/pytorch/blob/main/SECURITY.md#untrusted-models for more details). In a future release, the default value for `weights_only` will be flipped to `True`. This limits the functions that could be executed during unpickling. Arbitrary objects will no longer be allowed to be loaded via this mode unless they are explicitly allowlisted by the user via `torch.serialization.add_safe_globals`. We recommend you start setting `weights_only=True` for any use case where you don't have full control of the loaded file. Please open an issue on GitHub for any issues related to this experimental feature.\n",
            "  model.load_state_dict(torch.load('model_female.pth'), strict=False)\n",
            "/content/app.py:87: FutureWarning: You are using `torch.load` with `weights_only=False` (the current default value), which uses the default pickle module implicitly. It is possible to construct malicious pickle data which will execute arbitrary code during unpickling (See https://github.com/pytorch/pytorch/blob/main/SECURITY.md#untrusted-models for more details). In a future release, the default value for `weights_only` will be flipped to `True`. This limits the functions that could be executed during unpickling. Arbitrary objects will no longer be allowed to be loaded via this mode unless they are explicitly allowlisted by the user via `torch.serialization.add_safe_globals`. We recommend you start setting `weights_only=True` for any use case where you don't have full control of the loaded file. Please open an issue on GitHub for any issues related to this experimental feature.\n",
            "  model.load_state_dict(torch.load('model_female.pth'), strict=False)\n",
            "/content/app.py:87: FutureWarning: You are using `torch.load` with `weights_only=False` (the current default value), which uses the default pickle module implicitly. It is possible to construct malicious pickle data which will execute arbitrary code during unpickling (See https://github.com/pytorch/pytorch/blob/main/SECURITY.md#untrusted-models for more details). In a future release, the default value for `weights_only` will be flipped to `True`. This limits the functions that could be executed during unpickling. Arbitrary objects will no longer be allowed to be loaded via this mode unless they are explicitly allowlisted by the user via `torch.serialization.add_safe_globals`. We recommend you start setting `weights_only=True` for any use case where you don't have full control of the loaded file. Please open an issue on GitHub for any issues related to this experimental feature.\n",
            "  model.load_state_dict(torch.load('model_female.pth'), strict=False)\n",
            "/content/app.py:87: FutureWarning: You are using `torch.load` with `weights_only=False` (the current default value), which uses the default pickle module implicitly. It is possible to construct malicious pickle data which will execute arbitrary code during unpickling (See https://github.com/pytorch/pytorch/blob/main/SECURITY.md#untrusted-models for more details). In a future release, the default value for `weights_only` will be flipped to `True`. This limits the functions that could be executed during unpickling. Arbitrary objects will no longer be allowed to be loaded via this mode unless they are explicitly allowlisted by the user via `torch.serialization.add_safe_globals`. We recommend you start setting `weights_only=True` for any use case where you don't have full control of the loaded file. Please open an issue on GitHub for any issues related to this experimental feature.\n",
            "  model.load_state_dict(torch.load('model_female.pth'), strict=False)\n",
            "/content/app.py:87: FutureWarning: You are using `torch.load` with `weights_only=False` (the current default value), which uses the default pickle module implicitly. It is possible to construct malicious pickle data which will execute arbitrary code during unpickling (See https://github.com/pytorch/pytorch/blob/main/SECURITY.md#untrusted-models for more details). In a future release, the default value for `weights_only` will be flipped to `True`. This limits the functions that could be executed during unpickling. Arbitrary objects will no longer be allowed to be loaded via this mode unless they are explicitly allowlisted by the user via `torch.serialization.add_safe_globals`. We recommend you start setting `weights_only=True` for any use case where you don't have full control of the loaded file. Please open an issue on GitHub for any issues related to this experimental feature.\n",
            "  model.load_state_dict(torch.load('model_female.pth'), strict=False)\n",
            "/content/app.py:83: FutureWarning: You are using `torch.load` with `weights_only=False` (the current default value), which uses the default pickle module implicitly. It is possible to construct malicious pickle data which will execute arbitrary code during unpickling (See https://github.com/pytorch/pytorch/blob/main/SECURITY.md#untrusted-models for more details). In a future release, the default value for `weights_only` will be flipped to `True`. This limits the functions that could be executed during unpickling. Arbitrary objects will no longer be allowed to be loaded via this mode unless they are explicitly allowlisted by the user via `torch.serialization.add_safe_globals`. We recommend you start setting `weights_only=True` for any use case where you don't have full control of the loaded file. Please open an issue on GitHub for any issues related to this experimental feature.\n",
            "  model.load_state_dict(torch.load('model_male.pth'), strict=False)\n",
            "/content/app.py:83: FutureWarning: You are using `torch.load` with `weights_only=False` (the current default value), which uses the default pickle module implicitly. It is possible to construct malicious pickle data which will execute arbitrary code during unpickling (See https://github.com/pytorch/pytorch/blob/main/SECURITY.md#untrusted-models for more details). In a future release, the default value for `weights_only` will be flipped to `True`. This limits the functions that could be executed during unpickling. Arbitrary objects will no longer be allowed to be loaded via this mode unless they are explicitly allowlisted by the user via `torch.serialization.add_safe_globals`. We recommend you start setting `weights_only=True` for any use case where you don't have full control of the loaded file. Please open an issue on GitHub for any issues related to this experimental feature.\n",
            "  model.load_state_dict(torch.load('model_male.pth'), strict=False)\n",
            "/content/app.py:83: FutureWarning: You are using `torch.load` with `weights_only=False` (the current default value), which uses the default pickle module implicitly. It is possible to construct malicious pickle data which will execute arbitrary code during unpickling (See https://github.com/pytorch/pytorch/blob/main/SECURITY.md#untrusted-models for more details). In a future release, the default value for `weights_only` will be flipped to `True`. This limits the functions that could be executed during unpickling. Arbitrary objects will no longer be allowed to be loaded via this mode unless they are explicitly allowlisted by the user via `torch.serialization.add_safe_globals`. We recommend you start setting `weights_only=True` for any use case where you don't have full control of the loaded file. Please open an issue on GitHub for any issues related to this experimental feature.\n",
            "  model.load_state_dict(torch.load('model_male.pth'), strict=False)\n",
            "/content/app.py:83: FutureWarning: You are using `torch.load` with `weights_only=False` (the current default value), which uses the default pickle module implicitly. It is possible to construct malicious pickle data which will execute arbitrary code during unpickling (See https://github.com/pytorch/pytorch/blob/main/SECURITY.md#untrusted-models for more details). In a future release, the default value for `weights_only` will be flipped to `True`. This limits the functions that could be executed during unpickling. Arbitrary objects will no longer be allowed to be loaded via this mode unless they are explicitly allowlisted by the user via `torch.serialization.add_safe_globals`. We recommend you start setting `weights_only=True` for any use case where you don't have full control of the loaded file. Please open an issue on GitHub for any issues related to this experimental feature.\n",
            "  model.load_state_dict(torch.load('model_male.pth'), strict=False)\n",
            "\u001b[34m  Stopping...\u001b[0m\n",
            "\u001b[34m  Stopping...\u001b[0m\n",
            "Traceback (most recent call last):\n",
            "  File \"/usr/lib/python3.10/weakref.py\", line 667, in _exitfunc\n",
            "    f()\n",
            "  File \"/usr/lib/python3.10/weakref.py\", line 591, in __call__\n",
            "    return info.func(*info.args, **(info.kwargs or {}))\n",
            "  File \"/usr/local/lib/python3.10/dist-packages/torch/library.py\", line 402, in _del_library\n",
            "    handle.destroy()\n",
            "  File \"/usr/local/lib/python3.10/dist-packages/torch/_library/utils.py\", line 30, in destroy\n",
            "    self._on_destroy()\n",
            "  File \"/usr/local/lib/python3.10/dist-packages/torch/_library/fake_impl.py\", line 65, in deregister_fake_class\n",
            "    def deregister_fake_class():\n",
            "  File \"/usr/local/lib/python3.10/dist-packages/streamlit/web/bootstrap.py\", line 44, in signal_handler\n",
            "    server.stop()\n",
            "  File \"/usr/local/lib/python3.10/dist-packages/streamlit/web/server/server.py\", line 417, in stop\n",
            "    self._runtime.stop()\n",
            "  File \"/usr/local/lib/python3.10/dist-packages/streamlit/runtime/runtime.py\", line 324, in stop\n",
            "    async_objs.eventloop.call_soon_threadsafe(stop_on_eventloop)\n",
            "  File \"/usr/lib/python3.10/asyncio/base_events.py\", line 798, in call_soon_threadsafe\n",
            "    self._check_closed()\n",
            "  File \"/usr/lib/python3.10/asyncio/base_events.py\", line 515, in _check_closed\n",
            "    raise RuntimeError('Event loop is closed')\n",
            "RuntimeError: Event loop is closed\n"
          ]
        }
      ]
    },
    {
      "cell_type": "code",
      "source": [],
      "metadata": {
        "id": "WF5loh6AieoJ"
      },
      "execution_count": null,
      "outputs": []
    }
  ]
}